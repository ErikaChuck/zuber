{
 "cells": [
  {
   "cell_type": "markdown",
   "metadata": {},
   "source": [
    "# Sprint 7: Proyecto"
   ]
  },
  {
   "cell_type": "markdown",
   "metadata": {},
   "source": [
    "El proyecto consiste en la simulación del trabajo de un analista para Zuber, una nueva empresa de viajes compartidos que se está lanzando en Chicago. La tarea es encontrar patrones en la información disponible. Queremos comprender las preferencias de los pasajeros y el impacto de los factores externos en los viajes.\n",
    "\n",
    "Al trabajar con una base de datos, se analizarán los datos de los competidores y se probará una hipótesis sobre el impacto del clima en la frecuencia de los viajes."
   ]
  },
  {
   "cell_type": "markdown",
   "metadata": {},
   "source": [
    "## Análisis exploratorio de datos"
   ]
  },
  {
   "cell_type": "markdown",
   "metadata": {},
   "source": [
    "### Preparación de los datos"
   ]
  },
  {
   "cell_type": "markdown",
   "metadata": {},
   "source": [
    "#### Importar archivos"
   ]
  },
  {
   "cell_type": "markdown",
   "metadata": {},
   "source": [
    "Importaremos las librerias necesarias, así como los archivos que contienen los datos que vamos a analizar"
   ]
  },
  {
   "cell_type": "code",
   "execution_count": 1,
   "metadata": {},
   "outputs": [],
   "source": [
    "import pandas as pd\n",
    "import matplotlib.pyplot as plt\n",
    "import numpy as np\n",
    "from scipy.stats import levene, ttest_ind"
   ]
  },
  {
   "cell_type": "code",
   "execution_count": 3,
   "metadata": {},
   "outputs": [],
   "source": [
    "company = pd.read_csv('project_sql_result_01.csv')\n",
    "location = pd.read_csv('project_sql_result_04.csv')\n",
    "clima = pd.read_csv(\"project_sql_result_07.csv\")"
   ]
  },
  {
   "cell_type": "markdown",
   "metadata": {},
   "source": [
    "#### Estudio de los datos"
   ]
  },
  {
   "cell_type": "markdown",
   "metadata": {},
   "source": [
    "Revisaremos los datos que contienen y el tipo de datos, además verificaremos no contar con filas duplicadas de la tabla company"
   ]
  },
  {
   "cell_type": "code",
   "execution_count": 44,
   "metadata": {},
   "outputs": [
    {
     "name": "stdout",
     "output_type": "stream",
     "text": [
      "<class 'pandas.core.frame.DataFrame'>\n",
      "RangeIndex: 64 entries, 0 to 63\n",
      "Data columns (total 2 columns):\n",
      " #   Column        Non-Null Count  Dtype \n",
      "---  ------        --------------  ----- \n",
      " 0   company_name  64 non-null     object\n",
      " 1   trips_amount  64 non-null     int64 \n",
      "dtypes: int64(1), object(1)\n",
      "memory usage: 1.1+ KB\n"
     ]
    }
   ],
   "source": [
    "# Imprimimos la información de la tabla\n",
    "company.info(show_counts=True)"
   ]
  },
  {
   "cell_type": "code",
   "execution_count": 45,
   "metadata": {
    "scrolled": true
   },
   "outputs": [
    {
     "data": {
      "text/html": [
       "<div>\n",
       "<style scoped>\n",
       "    .dataframe tbody tr th:only-of-type {\n",
       "        vertical-align: middle;\n",
       "    }\n",
       "\n",
       "    .dataframe tbody tr th {\n",
       "        vertical-align: top;\n",
       "    }\n",
       "\n",
       "    .dataframe thead th {\n",
       "        text-align: right;\n",
       "    }\n",
       "</style>\n",
       "<table border=\"1\" class=\"dataframe\">\n",
       "  <thead>\n",
       "    <tr style=\"text-align: right;\">\n",
       "      <th></th>\n",
       "      <th>company_name</th>\n",
       "      <th>trips_amount</th>\n",
       "    </tr>\n",
       "  </thead>\n",
       "  <tbody>\n",
       "    <tr>\n",
       "      <th>0</th>\n",
       "      <td>Flash Cab</td>\n",
       "      <td>19558</td>\n",
       "    </tr>\n",
       "    <tr>\n",
       "      <th>1</th>\n",
       "      <td>Taxi Affiliation Services</td>\n",
       "      <td>11422</td>\n",
       "    </tr>\n",
       "    <tr>\n",
       "      <th>2</th>\n",
       "      <td>Medallion Leasing</td>\n",
       "      <td>10367</td>\n",
       "    </tr>\n",
       "    <tr>\n",
       "      <th>3</th>\n",
       "      <td>Yellow Cab</td>\n",
       "      <td>9888</td>\n",
       "    </tr>\n",
       "    <tr>\n",
       "      <th>4</th>\n",
       "      <td>Taxi Affiliation Service Yellow</td>\n",
       "      <td>9299</td>\n",
       "    </tr>\n",
       "  </tbody>\n",
       "</table>\n",
       "</div>"
      ],
      "text/plain": [
       "                      company_name  trips_amount\n",
       "0                        Flash Cab         19558\n",
       "1        Taxi Affiliation Services         11422\n",
       "2                Medallion Leasing         10367\n",
       "3                       Yellow Cab          9888\n",
       "4  Taxi Affiliation Service Yellow          9299"
      ]
     },
     "execution_count": 45,
     "metadata": {},
     "output_type": "execute_result"
    }
   ],
   "source": [
    "#Mostramos su contenido\n",
    "company.head()"
   ]
  },
  {
   "cell_type": "code",
   "execution_count": 46,
   "metadata": {
    "scrolled": true
   },
   "outputs": [
    {
     "data": {
      "text/plain": [
       "0"
      ]
     },
     "execution_count": 46,
     "metadata": {},
     "output_type": "execute_result"
    }
   ],
   "source": [
    "#Verificamos duplicados\n",
    "company.duplicated().sum()"
   ]
  },
  {
   "cell_type": "markdown",
   "metadata": {},
   "source": [
    "Nos encontramos con que todos los datos de la tabla company están en orden, procederemos a revisar la tabla location."
   ]
  },
  {
   "cell_type": "code",
   "execution_count": 47,
   "metadata": {
    "scrolled": false
   },
   "outputs": [
    {
     "name": "stdout",
     "output_type": "stream",
     "text": [
      "<class 'pandas.core.frame.DataFrame'>\n",
      "RangeIndex: 94 entries, 0 to 93\n",
      "Data columns (total 2 columns):\n",
      " #   Column                 Non-Null Count  Dtype  \n",
      "---  ------                 --------------  -----  \n",
      " 0   dropoff_location_name  94 non-null     object \n",
      " 1   average_trips          94 non-null     float64\n",
      "dtypes: float64(1), object(1)\n",
      "memory usage: 1.6+ KB\n"
     ]
    }
   ],
   "source": [
    "location.info(show_counts=True)"
   ]
  },
  {
   "cell_type": "code",
   "execution_count": 48,
   "metadata": {
    "scrolled": false
   },
   "outputs": [
    {
     "data": {
      "text/html": [
       "<div>\n",
       "<style scoped>\n",
       "    .dataframe tbody tr th:only-of-type {\n",
       "        vertical-align: middle;\n",
       "    }\n",
       "\n",
       "    .dataframe tbody tr th {\n",
       "        vertical-align: top;\n",
       "    }\n",
       "\n",
       "    .dataframe thead th {\n",
       "        text-align: right;\n",
       "    }\n",
       "</style>\n",
       "<table border=\"1\" class=\"dataframe\">\n",
       "  <thead>\n",
       "    <tr style=\"text-align: right;\">\n",
       "      <th></th>\n",
       "      <th>dropoff_location_name</th>\n",
       "      <th>average_trips</th>\n",
       "    </tr>\n",
       "  </thead>\n",
       "  <tbody>\n",
       "    <tr>\n",
       "      <th>0</th>\n",
       "      <td>Loop</td>\n",
       "      <td>10727.466667</td>\n",
       "    </tr>\n",
       "    <tr>\n",
       "      <th>1</th>\n",
       "      <td>River North</td>\n",
       "      <td>9523.666667</td>\n",
       "    </tr>\n",
       "    <tr>\n",
       "      <th>2</th>\n",
       "      <td>Streeterville</td>\n",
       "      <td>6664.666667</td>\n",
       "    </tr>\n",
       "    <tr>\n",
       "      <th>3</th>\n",
       "      <td>West Loop</td>\n",
       "      <td>5163.666667</td>\n",
       "    </tr>\n",
       "    <tr>\n",
       "      <th>4</th>\n",
       "      <td>O'Hare</td>\n",
       "      <td>2546.900000</td>\n",
       "    </tr>\n",
       "  </tbody>\n",
       "</table>\n",
       "</div>"
      ],
      "text/plain": [
       "  dropoff_location_name  average_trips\n",
       "0                  Loop   10727.466667\n",
       "1           River North    9523.666667\n",
       "2         Streeterville    6664.666667\n",
       "3             West Loop    5163.666667\n",
       "4                O'Hare    2546.900000"
      ]
     },
     "execution_count": 48,
     "metadata": {},
     "output_type": "execute_result"
    }
   ],
   "source": [
    "location.head()"
   ]
  },
  {
   "cell_type": "code",
   "execution_count": 49,
   "metadata": {},
   "outputs": [
    {
     "data": {
      "text/plain": [
       "0"
      ]
     },
     "execution_count": 49,
     "metadata": {},
     "output_type": "execute_result"
    }
   ],
   "source": [
    "location.duplicated().sum()"
   ]
  },
  {
   "cell_type": "markdown",
   "metadata": {},
   "source": [
    "Repetiremos el análisis con la tabla clima."
   ]
  },
  {
   "cell_type": "code",
   "execution_count": 50,
   "metadata": {
    "scrolled": true
   },
   "outputs": [
    {
     "name": "stdout",
     "output_type": "stream",
     "text": [
      "<class 'pandas.core.frame.DataFrame'>\n",
      "RangeIndex: 1068 entries, 0 to 1067\n",
      "Data columns (total 3 columns):\n",
      " #   Column              Non-Null Count  Dtype  \n",
      "---  ------              --------------  -----  \n",
      " 0   start_ts            1068 non-null   object \n",
      " 1   weather_conditions  1068 non-null   object \n",
      " 2   duration_seconds    1068 non-null   float64\n",
      "dtypes: float64(1), object(2)\n",
      "memory usage: 25.2+ KB\n"
     ]
    }
   ],
   "source": [
    "clima.info(show_counts=True)"
   ]
  },
  {
   "cell_type": "code",
   "execution_count": 51,
   "metadata": {
    "scrolled": true
   },
   "outputs": [
    {
     "data": {
      "text/html": [
       "<div>\n",
       "<style scoped>\n",
       "    .dataframe tbody tr th:only-of-type {\n",
       "        vertical-align: middle;\n",
       "    }\n",
       "\n",
       "    .dataframe tbody tr th {\n",
       "        vertical-align: top;\n",
       "    }\n",
       "\n",
       "    .dataframe thead th {\n",
       "        text-align: right;\n",
       "    }\n",
       "</style>\n",
       "<table border=\"1\" class=\"dataframe\">\n",
       "  <thead>\n",
       "    <tr style=\"text-align: right;\">\n",
       "      <th></th>\n",
       "      <th>start_ts</th>\n",
       "      <th>weather_conditions</th>\n",
       "      <th>duration_seconds</th>\n",
       "    </tr>\n",
       "  </thead>\n",
       "  <tbody>\n",
       "    <tr>\n",
       "      <th>0</th>\n",
       "      <td>2017-11-25 16:00:00</td>\n",
       "      <td>Good</td>\n",
       "      <td>2410.0</td>\n",
       "    </tr>\n",
       "    <tr>\n",
       "      <th>1</th>\n",
       "      <td>2017-11-25 14:00:00</td>\n",
       "      <td>Good</td>\n",
       "      <td>1920.0</td>\n",
       "    </tr>\n",
       "    <tr>\n",
       "      <th>2</th>\n",
       "      <td>2017-11-25 12:00:00</td>\n",
       "      <td>Good</td>\n",
       "      <td>1543.0</td>\n",
       "    </tr>\n",
       "    <tr>\n",
       "      <th>3</th>\n",
       "      <td>2017-11-04 10:00:00</td>\n",
       "      <td>Good</td>\n",
       "      <td>2512.0</td>\n",
       "    </tr>\n",
       "    <tr>\n",
       "      <th>4</th>\n",
       "      <td>2017-11-11 07:00:00</td>\n",
       "      <td>Good</td>\n",
       "      <td>1440.0</td>\n",
       "    </tr>\n",
       "  </tbody>\n",
       "</table>\n",
       "</div>"
      ],
      "text/plain": [
       "              start_ts weather_conditions  duration_seconds\n",
       "0  2017-11-25 16:00:00               Good            2410.0\n",
       "1  2017-11-25 14:00:00               Good            1920.0\n",
       "2  2017-11-25 12:00:00               Good            1543.0\n",
       "3  2017-11-04 10:00:00               Good            2512.0\n",
       "4  2017-11-11 07:00:00               Good            1440.0"
      ]
     },
     "execution_count": 51,
     "metadata": {},
     "output_type": "execute_result"
    }
   ],
   "source": [
    "clima.head()"
   ]
  },
  {
   "cell_type": "code",
   "execution_count": 52,
   "metadata": {
    "scrolled": true
   },
   "outputs": [
    {
     "data": {
      "text/plain": [
       "array(['Good', 'Bad'], dtype=object)"
      ]
     },
     "execution_count": 52,
     "metadata": {},
     "output_type": "execute_result"
    }
   ],
   "source": [
    "clima['weather_conditions'].unique()"
   ]
  },
  {
   "cell_type": "code",
   "execution_count": 53,
   "metadata": {},
   "outputs": [
    {
     "data": {
      "text/plain": [
       "197"
      ]
     },
     "execution_count": 53,
     "metadata": {},
     "output_type": "execute_result"
    }
   ],
   "source": [
    "clima.duplicated().sum()"
   ]
  },
  {
   "cell_type": "code",
   "execution_count": 54,
   "metadata": {},
   "outputs": [],
   "source": [
    "#Eliminaremos las filas duplicadas\n",
    "clima = clima.drop_duplicates()\n",
    "clima_new = clima.dropna()"
   ]
  },
  {
   "cell_type": "code",
   "execution_count": 55,
   "metadata": {},
   "outputs": [
    {
     "data": {
      "text/plain": [
       "(871, 3)"
      ]
     },
     "execution_count": 55,
     "metadata": {},
     "output_type": "execute_result"
    }
   ],
   "source": [
    "clima_new.shape"
   ]
  },
  {
   "cell_type": "markdown",
   "metadata": {},
   "source": [
    "Los tipos de datos corresponden a los valores que se muestran, nos encontramos con valores duplicados en la última tabla por lo que procedimos a eliminarlos."
   ]
  },
  {
   "cell_type": "markdown",
   "metadata": {},
   "source": [
    "### Análisis de datos y gráficos"
   ]
  },
  {
   "cell_type": "markdown",
   "metadata": {},
   "source": [
    "#### Los 10 principales barrios en términos de finalización del recorrido"
   ]
  },
  {
   "cell_type": "code",
   "execution_count": 56,
   "metadata": {
    "scrolled": false
   },
   "outputs": [
    {
     "name": "stdout",
     "output_type": "stream",
     "text": [
      "dropoff_location_name\n",
      "Sheffield & DePaul     1259.766667\n",
      "Gold Coast             1364.233333\n",
      "Museum Campus          1510.000000\n",
      "Grant Park             2068.533333\n",
      "Lake View              2420.966667\n",
      "O'Hare                 2546.900000\n",
      "West Loop              5163.666667\n",
      "Streeterville          6664.666667\n",
      "River North            9523.666667\n",
      "Loop                  10727.466667\n",
      "Name: average_trips, dtype: float64\n"
     ]
    }
   ],
   "source": [
    "#agruparemos los datos de los barrios en función de la finalización del recorrido y ordenaremos\n",
    "top_barrios = location.groupby(\"dropoff_location_name\")[\"average_trips\"].sum().sort_values().tail(10)\n",
    "print(top_barrios)"
   ]
  },
  {
   "cell_type": "code",
   "execution_count": 57,
   "metadata": {
    "scrolled": false
   },
   "outputs": [
    {
     "data": {
      "text/plain": [
       "<AxesSubplot:xlabel='Ubicación de finalización del recorrido', ylabel='Promedio de viajes'>"
      ]
     },
     "execution_count": 57,
     "metadata": {},
     "output_type": "execute_result"
    },
    {
     "data": {
      "image/png": "[encoded data removed]",
      "text/plain": [
       "<Figure size 640x480 with 1 Axes>"
      ]
     },
     "metadata": {},
     "output_type": "display_data"
    }
   ],
   "source": [
    "#Realizamos un gráfica de barras mediante plot\n",
    "(\n",
    "    top_barrios.groupby(\"dropoff_location_name\")\n",
    "    .mean()\n",
    "    .sort_values(ascending=False)\n",
    "    .plot(kind=\"bar\", xlabel=\"Ubicación de finalización del recorrido\", ylabel=\"Promedio de viajes\")\n",
    ")"
   ]
  },
  {
   "cell_type": "code",
   "execution_count": 58,
   "metadata": {},
   "outputs": [
    {
     "data": {
      "image/png": "[encoded data removed]",
      "text/plain": [
       "<Figure size 1200x600 with 2 Axes>"
      ]
     },
     "metadata": {},
     "output_type": "display_data"
    }
   ],
   "source": [
    "#Revisaremos si existen valores atipicos mediante un diagrama de cajas con ambas tablas\n",
    "#Creamos la figura y sus ejes\n",
    "import seaborn as sns\n",
    "fig, axes = plt.subplots(1, 2, figsize=(12, 6))\n",
    "\n",
    "# Gráfico de caja para 'location' en el primer subgráfico\n",
    "sns.boxplot(data=location, y='average_trips', ax=axes[0])\n",
    "axes[0].set_title('Promedio de viajes por destino')\n",
    "\n",
    "# Gráfico de caja para 'company' en el segundo subgráfico\n",
    "sns.boxplot(data=company, y='trips_amount', ax=axes[1])\n",
    "axes[1].set_title('Cantidad de viajes por compañia')\n",
    "\n",
    "# Mostrar la figura\n",
    "plt.tight_layout()\n",
    "plt.show()"
   ]
  },
  {
   "cell_type": "markdown",
   "metadata": {},
   "source": [
    "#### Empresas de taxis y números de viajes"
   ]
  },
  {
   "cell_type": "code",
   "execution_count": 59,
   "metadata": {},
   "outputs": [
    {
     "data": {
      "text/plain": [
       "<AxesSubplot:xlabel='Nombre de la compañia', ylabel='Cantidad de viajes'>"
      ]
     },
     "execution_count": 59,
     "metadata": {},
     "output_type": "execute_result"
    },
    {
     "data": {
      "image/png": "[encoded data removed]",
      "text/plain": [
       "<Figure size 640x480 with 1 Axes>"
      ]
     },
     "metadata": {},
     "output_type": "display_data"
    }
   ],
   "source": [
    "top_company = company.groupby(\"company_name\")[\"trips_amount\"].sum().sort_values().tail(10)\n",
    "\n",
    "(\n",
    "    top_company.groupby(\"company_name\")\n",
    "    .mean()\n",
    "    .sort_values(ascending=False)\n",
    "    .plot(kind=\"bar\", xlabel=\"Nombre de la compañia\", ylabel=\"Cantidad de viajes\")\n",
    ")"
   ]
  },
  {
   "cell_type": "markdown",
   "metadata": {},
   "source": [
    "### Conclusiones "
   ]
  },
  {
   "cell_type": "markdown",
   "metadata": {},
   "source": [
    "Nos encontramos con datos que no  requirieron modificaciones en los tipos, solamente un duplicado en la tabla con las condiciones climaticas. En cuanto al análisis observamos que el destino más popular en el servicio de taxis es Loop, seguido River North y Streeterville. También podemos ver que la compañía de taxis con mayor cantidad de viajes por mucho es Flash Cab, el resto de compañias no tienen una variación tan significativa en la cantidad de viajes. Al realizar los diagramas de cajas nos encontramos con valores atipicos, que son demasiado fuera del rango de los valores usuales, por lo que al hacer nuestra prueba de hipótesis se pueda observar la varianza afectada por ellos."
   ]
  },
  {
   "cell_type": "markdown",
   "metadata": {},
   "source": [
    "## Prueba de hipótesis"
   ]
  },
  {
   "cell_type": "markdown",
   "metadata": {},
   "source": [
    "El resultado de la última consulta. Contiene datos sobre viajes desde el Loop hasta el Aeropuerto Internacional O'Hare. "
   ]
  },
  {
   "cell_type": "markdown",
   "metadata": {},
   "source": [
    "### Prueba la hipótesis:\n",
    "\n",
    "\"La duración promedio de los viajes desde el Loop hasta el Aeropuerto Internacional O'Hare cambia los sábados lluviosos\"."
   ]
  },
  {
   "cell_type": "markdown",
   "metadata": {},
   "source": [
    "Tomaremos el valor de alfa como 5% debido a que es el estándar. Nuestras hipótesis son las siguientes;\n",
    "\n",
    "-Hipótesis nula (H0): la duración promedio de los viajes desde el Loop hasta el Aeropuerto Internacional O'Hare es igual los sábados lluviosos\n",
    "\n",
    "-Hipótesis alternativa (H1): La duración promedio de los viajes desde el Loop hasta el Aeropuerto Internacional O'Hare cambia los sábados lluviosos. \n",
    "\n",
    "Nuestra prueba será ttest debido a la cantidad de datos a analizar y porque será una comparación entre dos grupos."
   ]
  },
  {
   "cell_type": "code",
   "execution_count": 61,
   "metadata": {},
   "outputs": [],
   "source": [
    "#Dividiremos nuestra tabla en dos dependiendo de la condición climática\n",
    "bad = clima_new[clima_new[\"weather_conditions\"] == 'Bad'][\"duration_seconds\"]\n",
    "good = clima_new[clima_new[\"weather_conditions\"] == 'Good'][\"duration_seconds\"]"
   ]
  },
  {
   "cell_type": "code",
   "execution_count": 74,
   "metadata": {},
   "outputs": [
    {
     "name": "stdout",
     "output_type": "stream",
     "text": [
      "Varianzas iguales\n"
     ]
    }
   ],
   "source": [
    "#Agregaremos una prueba de Levenne para detrminar si las varianzas son iguales y proceder con la prueba ttest.\n",
    "\n",
    "statistic, p_value = levene(\n",
    "    bad,\n",
    "    good,\n",
    ")\n",
    "\n",
    "p_value\n",
    "\n",
    "alpha = 0.05\n",
    "if p_value < alpha:\n",
    "    print('Varianzas diferentes')\n",
    "else:\n",
    "    print('Varianzas iguales')"
   ]
  },
  {
   "cell_type": "markdown",
   "metadata": {},
   "source": [
    "Podemos asumir que las varianzas son iguales, adicionalmente visualizaremos su distribución mediante un gráfico"
   ]
  },
  {
   "cell_type": "code",
   "execution_count": 72,
   "metadata": {},
   "outputs": [
    {
     "data": {
      "text/plain": [
       "<seaborn.axisgrid.FacetGrid at 0x7f2ef68f8df0>"
      ]
     },
     "execution_count": 72,
     "metadata": {},
     "output_type": "execute_result"
    },
    {
     "data": {
      "image/png": "[encoded data removed]",
      "text/plain": [
       "<Figure size 646.486x500 with 1 Axes>"
      ]
     },
     "metadata": {},
     "output_type": "display_data"
    }
   ],
   "source": [
    "sns.displot(clima_new, hue='weather_conditions', x='duration_seconds')"
   ]
  },
  {
   "cell_type": "code",
   "execution_count": 75,
   "metadata": {},
   "outputs": [
    {
     "name": "stdout",
     "output_type": "stream",
     "text": [
      "Rechazamos la hipótesis nula: La duración promedio de los viajes desde el Loop hasta el Aeropuerto Internacional O'Hare cambia los sábados lluviosos.\n"
     ]
    }
   ],
   "source": [
    "#importamos la prueba\n",
    "from scipy.stats import ttest_ind\n",
    "\n",
    "\n",
    "stat, p_value = ttest_ind(\n",
    "    bad,\n",
    "    good,\n",
    "    #Reafirmamos que las varianzas son iguales para complementar la prueba\n",
    "    equal_var = True\n",
    ")\n",
    "p_value\n",
    "\n",
    "#deteminamos alfa\n",
    "alpha = 0.05\n",
    "if p_value < alpha:\n",
    "    print(\"Rechazamos la hipótesis nula: La duración promedio de los viajes desde el Loop hasta el Aeropuerto Internacional O'Hare cambia los sábados lluviosos.\")\n",
    "else:\n",
    "    print(\"No podemos rechazar la hipótesis nula: La duración promedio de los viajes desde el Loop hasta el Aeropuerto Internacional O'Hare es igual los sábados lluviosos.\")\n"
   ]
  },
  {
   "cell_type": "markdown",
   "metadata": {},
   "source": [
    "Observamos que de acuerdo a nuestra prueba estadística, que las varianzas entre ambos grupos parecen ser similares por lo que no podemos descartar que sean distintas, de modo que no hay diferencia en la duración de los viajes desde el Loop hasta el aeropuerto entre los días lluviosos y no lluviosos."
   ]
  }
 ],
 "metadata": {
  "ExecuteTimeLog": [
   {
    "duration": 416,
    "start_time": "2024-07-09T15:06:51.180Z"
   },
   {
    "duration": 17,
    "start_time": "2024-07-09T15:08:31.489Z"
   },
   {
    "duration": 14,
    "start_time": "2024-07-09T15:31:30.998Z"
   },
   {
    "duration": 17,
    "start_time": "2024-07-09T15:31:41.631Z"
   },
   {
    "duration": 14,
    "start_time": "2024-07-09T15:31:57.844Z"
   },
   {
    "duration": 10,
    "start_time": "2024-07-09T15:32:07.196Z"
   },
   {
    "duration": 319,
    "start_time": "2024-07-09T16:41:10.993Z"
   },
   {
    "duration": 419,
    "start_time": "2024-07-09T16:41:29.877Z"
   },
   {
    "duration": 19,
    "start_time": "2024-07-09T16:41:32.221Z"
   },
   {
    "duration": 57,
    "start_time": "2024-07-09T16:41:44.127Z"
   },
   {
    "duration": 6,
    "start_time": "2024-07-09T16:42:09.983Z"
   },
   {
    "duration": 7,
    "start_time": "2024-07-09T16:42:43.558Z"
   },
   {
    "duration": 7,
    "start_time": "2024-07-09T16:43:12.095Z"
   },
   {
    "duration": 6,
    "start_time": "2024-07-09T16:43:21.106Z"
   },
   {
    "duration": 24,
    "start_time": "2024-07-09T16:45:07.052Z"
   },
   {
    "duration": 4185,
    "start_time": "2024-07-09T16:45:23.305Z"
   },
   {
    "duration": 92,
    "start_time": "2024-07-09T16:46:35.392Z"
   },
   {
    "duration": 1948,
    "start_time": "2024-07-09T16:46:45.157Z"
   },
   {
    "duration": 24,
    "start_time": "2024-07-09T16:47:07.082Z"
   },
   {
    "duration": 6,
    "start_time": "2024-07-09T16:48:18.638Z"
   },
   {
    "duration": 6,
    "start_time": "2024-07-09T16:48:39.771Z"
   },
   {
    "duration": 8,
    "start_time": "2024-07-09T16:48:54.112Z"
   },
   {
    "duration": 8,
    "start_time": "2024-07-09T16:49:11.310Z"
   },
   {
    "duration": 83,
    "start_time": "2024-07-09T16:49:28.651Z"
   },
   {
    "duration": 8,
    "start_time": "2024-07-09T16:50:49.984Z"
   },
   {
    "duration": 238,
    "start_time": "2024-07-09T16:51:11.119Z"
   },
   {
    "duration": 8,
    "start_time": "2024-07-09T16:52:30.740Z"
   },
   {
    "duration": 189,
    "start_time": "2024-07-09T16:52:53.084Z"
   },
   {
    "duration": 8,
    "start_time": "2024-07-09T16:53:09.056Z"
   },
   {
    "duration": 8,
    "start_time": "2024-07-09T16:54:04.369Z"
   },
   {
    "duration": 25,
    "start_time": "2024-07-09T16:54:13.033Z"
   },
   {
    "duration": 251,
    "start_time": "2024-07-09T16:54:59.280Z"
   },
   {
    "duration": 4,
    "start_time": "2024-07-09T17:24:46.417Z"
   },
   {
    "duration": 18,
    "start_time": "2024-07-09T17:24:46.424Z"
   },
   {
    "duration": 13,
    "start_time": "2024-07-09T17:24:46.445Z"
   },
   {
    "duration": 11,
    "start_time": "2024-07-09T17:24:46.462Z"
   },
   {
    "duration": 43,
    "start_time": "2024-07-09T17:24:46.476Z"
   },
   {
    "duration": 11,
    "start_time": "2024-07-09T17:24:46.522Z"
   },
   {
    "duration": 8,
    "start_time": "2024-07-09T17:24:46.537Z"
   },
   {
    "duration": 277,
    "start_time": "2024-07-09T17:24:46.548Z"
   },
   {
    "duration": 299,
    "start_time": "2024-07-09T17:24:46.829Z"
   },
   {
    "duration": 140,
    "start_time": "2024-07-09T17:47:44.178Z"
   },
   {
    "duration": 15,
    "start_time": "2024-07-09T17:48:07.104Z"
   },
   {
    "duration": 18,
    "start_time": "2024-07-09T17:49:23.935Z"
   },
   {
    "duration": 14,
    "start_time": "2024-07-09T17:49:47.789Z"
   },
   {
    "duration": 19,
    "start_time": "2024-07-09T17:50:09.731Z"
   },
   {
    "duration": 11,
    "start_time": "2024-07-09T18:09:33.948Z"
   },
   {
    "duration": 477,
    "start_time": "2024-07-09T18:17:34.411Z"
   },
   {
    "duration": 17,
    "start_time": "2024-07-10T14:55:43.898Z"
   },
   {
    "duration": 323,
    "start_time": "2024-07-11T14:49:07.738Z"
   },
   {
    "duration": 21,
    "start_time": "2024-07-11T14:49:15.301Z"
   },
   {
    "duration": 427,
    "start_time": "2024-07-11T14:49:23.507Z"
   },
   {
    "duration": 27,
    "start_time": "2024-07-11T14:49:25.425Z"
   },
   {
    "duration": 16,
    "start_time": "2024-07-11T14:49:45.549Z"
   },
   {
    "duration": 15,
    "start_time": "2024-07-11T14:49:50.483Z"
   },
   {
    "duration": 56,
    "start_time": "2024-07-11T14:49:55.637Z"
   },
   {
    "duration": 17,
    "start_time": "2024-07-11T14:50:34.696Z"
   },
   {
    "duration": 6,
    "start_time": "2024-07-11T14:50:57.412Z"
   },
   {
    "duration": 13,
    "start_time": "2024-07-11T14:51:46.991Z"
   },
   {
    "duration": 9,
    "start_time": "2024-07-11T14:51:48.331Z"
   },
   {
    "duration": 8,
    "start_time": "2024-07-11T14:52:12.220Z"
   },
   {
    "duration": 14,
    "start_time": "2024-07-11T14:52:15.651Z"
   },
   {
    "duration": 11,
    "start_time": "2024-07-11T14:52:21.679Z"
   },
   {
    "duration": 8,
    "start_time": "2024-07-11T14:52:39.906Z"
   },
   {
    "duration": 17,
    "start_time": "2024-07-11T14:53:21.676Z"
   },
   {
    "duration": 8,
    "start_time": "2024-07-11T14:54:01.214Z"
   },
   {
    "duration": 830,
    "start_time": "2024-07-11T14:54:06.816Z"
   },
   {
    "duration": 7,
    "start_time": "2024-07-11T14:54:28.983Z"
   },
   {
    "duration": 8,
    "start_time": "2024-07-11T14:54:38.783Z"
   },
   {
    "duration": 6,
    "start_time": "2024-07-11T14:57:14.123Z"
   },
   {
    "duration": 15,
    "start_time": "2024-07-11T14:57:42.607Z"
   },
   {
    "duration": 6,
    "start_time": "2024-07-11T15:08:32.136Z"
   },
   {
    "duration": 8,
    "start_time": "2024-07-11T15:09:48.813Z"
   },
   {
    "duration": 4109,
    "start_time": "2024-07-11T15:09:50.562Z"
   },
   {
    "duration": 279,
    "start_time": "2024-07-11T15:15:32.840Z"
   },
   {
    "duration": 7,
    "start_time": "2024-07-11T15:28:19.686Z"
   },
   {
    "duration": 246,
    "start_time": "2024-07-11T15:28:22.265Z"
   },
   {
    "duration": 340,
    "start_time": "2024-07-11T15:28:39.171Z"
   },
   {
    "duration": 655,
    "start_time": "2024-07-11T15:38:00.066Z"
   },
   {
    "duration": 277,
    "start_time": "2024-07-11T15:39:17.828Z"
   },
   {
    "duration": 234,
    "start_time": "2024-07-11T15:39:36.493Z"
   },
   {
    "duration": 234,
    "start_time": "2024-07-11T15:41:46.803Z"
   },
   {
    "duration": 4,
    "start_time": "2024-07-11T15:42:28.669Z"
   },
   {
    "duration": 267,
    "start_time": "2024-07-11T15:42:37.716Z"
   },
   {
    "duration": 65,
    "start_time": "2024-07-11T15:43:49.117Z"
   },
   {
    "duration": 268,
    "start_time": "2024-07-11T15:44:23.717Z"
   },
   {
    "duration": 249,
    "start_time": "2024-07-11T15:45:41.224Z"
   },
   {
    "duration": 10,
    "start_time": "2024-07-11T15:46:25.031Z"
   },
   {
    "duration": 218,
    "start_time": "2024-07-11T15:51:17.220Z"
   },
   {
    "duration": 920,
    "start_time": "2024-07-11T15:51:56.090Z"
   },
   {
    "duration": 713,
    "start_time": "2024-07-11T15:52:25.045Z"
   },
   {
    "duration": 309,
    "start_time": "2024-07-11T15:52:47.483Z"
   },
   {
    "duration": 230,
    "start_time": "2024-07-11T15:53:02.091Z"
   },
   {
    "duration": 519,
    "start_time": "2024-07-11T15:54:57.011Z"
   },
   {
    "duration": 610,
    "start_time": "2024-07-11T15:55:24.167Z"
   },
   {
    "duration": 17,
    "start_time": "2024-07-11T15:59:46.947Z"
   },
   {
    "duration": 25,
    "start_time": "2024-07-11T16:02:17.631Z"
   },
   {
    "duration": 16,
    "start_time": "2024-07-11T16:37:41.092Z"
   },
   {
    "duration": 4,
    "start_time": "2024-07-11T16:41:16.474Z"
   },
   {
    "duration": 244,
    "start_time": "2024-07-11T16:43:34.474Z"
   },
   {
    "duration": 22,
    "start_time": "2024-07-11T16:45:01.138Z"
   },
   {
    "duration": 8,
    "start_time": "2024-07-11T16:48:01.215Z"
   },
   {
    "duration": 6,
    "start_time": "2024-07-11T16:48:38.235Z"
   },
   {
    "duration": 115,
    "start_time": "2024-07-11T16:48:48.164Z"
   },
   {
    "duration": 9,
    "start_time": "2024-07-11T16:48:58.535Z"
   },
   {
    "duration": 9,
    "start_time": "2024-07-11T16:51:19.335Z"
   },
   {
    "duration": 10,
    "start_time": "2024-07-11T16:51:27.131Z"
   },
   {
    "duration": 18,
    "start_time": "2024-07-11T16:51:46.127Z"
   },
   {
    "duration": 10,
    "start_time": "2024-07-11T16:52:01.665Z"
   },
   {
    "duration": 17,
    "start_time": "2024-07-11T16:52:24.656Z"
   },
   {
    "duration": 12,
    "start_time": "2024-07-11T16:54:43.539Z"
   },
   {
    "duration": 13,
    "start_time": "2024-07-11T16:54:45.494Z"
   },
   {
    "duration": 6,
    "start_time": "2024-07-11T16:55:17.346Z"
   },
   {
    "duration": 8,
    "start_time": "2024-07-11T16:55:45.934Z"
   },
   {
    "duration": 8,
    "start_time": "2024-07-11T16:55:48.220Z"
   },
   {
    "duration": 274,
    "start_time": "2024-07-11T16:58:02.641Z"
   },
   {
    "duration": 7,
    "start_time": "2024-07-11T16:58:53.536Z"
   },
   {
    "duration": 10,
    "start_time": "2024-07-11T17:02:25.510Z"
   },
   {
    "duration": 6,
    "start_time": "2024-07-11T17:02:27.009Z"
   },
   {
    "duration": 5134,
    "start_time": "2024-07-13T13:16:07.366Z"
   },
   {
    "duration": 31,
    "start_time": "2024-07-13T13:16:12.504Z"
   },
   {
    "duration": 16,
    "start_time": "2024-07-13T13:16:12.538Z"
   },
   {
    "duration": 31,
    "start_time": "2024-07-13T13:16:12.561Z"
   },
   {
    "duration": 14,
    "start_time": "2024-07-13T13:16:12.596Z"
   },
   {
    "duration": 19,
    "start_time": "2024-07-13T13:16:12.613Z"
   },
   {
    "duration": 13,
    "start_time": "2024-07-13T13:16:12.635Z"
   },
   {
    "duration": 9,
    "start_time": "2024-07-13T13:16:12.652Z"
   },
   {
    "duration": 57,
    "start_time": "2024-07-13T13:16:12.665Z"
   },
   {
    "duration": 14,
    "start_time": "2024-07-13T13:16:12.729Z"
   },
   {
    "duration": 18,
    "start_time": "2024-07-13T13:16:12.746Z"
   },
   {
    "duration": 40,
    "start_time": "2024-07-13T13:16:12.768Z"
   },
   {
    "duration": 7,
    "start_time": "2024-07-13T13:16:12.811Z"
   },
   {
    "duration": 9,
    "start_time": "2024-07-13T13:16:12.821Z"
   },
   {
    "duration": 299,
    "start_time": "2024-07-13T13:16:12.833Z"
   },
   {
    "duration": 438,
    "start_time": "2024-07-13T13:16:13.135Z"
   },
   {
    "duration": 0,
    "start_time": "2024-07-13T13:16:13.577Z"
   },
   {
    "duration": 0,
    "start_time": "2024-07-13T13:16:13.581Z"
   },
   {
    "duration": 0,
    "start_time": "2024-07-13T13:16:13.585Z"
   },
   {
    "duration": 0,
    "start_time": "2024-07-13T13:16:13.588Z"
   },
   {
    "duration": 0,
    "start_time": "2024-07-13T13:16:13.610Z"
   },
   {
    "duration": 4,
    "start_time": "2024-07-13T13:17:38.157Z"
   },
   {
    "duration": 16,
    "start_time": "2024-07-13T13:17:38.168Z"
   },
   {
    "duration": 15,
    "start_time": "2024-07-13T13:17:38.189Z"
   },
   {
    "duration": 11,
    "start_time": "2024-07-13T13:17:38.208Z"
   },
   {
    "duration": 8,
    "start_time": "2024-07-13T13:17:38.222Z"
   },
   {
    "duration": 15,
    "start_time": "2024-07-13T13:17:38.235Z"
   },
   {
    "duration": 55,
    "start_time": "2024-07-13T13:17:38.256Z"
   },
   {
    "duration": 8,
    "start_time": "2024-07-13T13:17:38.314Z"
   },
   {
    "duration": 16,
    "start_time": "2024-07-13T13:17:38.325Z"
   },
   {
    "duration": 13,
    "start_time": "2024-07-13T13:17:38.345Z"
   },
   {
    "duration": 11,
    "start_time": "2024-07-13T13:17:38.409Z"
   },
   {
    "duration": 9,
    "start_time": "2024-07-13T13:17:38.423Z"
   },
   {
    "duration": 9,
    "start_time": "2024-07-13T13:17:38.435Z"
   },
   {
    "duration": 9,
    "start_time": "2024-07-13T13:17:38.447Z"
   },
   {
    "duration": 321,
    "start_time": "2024-07-13T13:17:38.463Z"
   },
   {
    "duration": 757,
    "start_time": "2024-07-13T13:17:38.788Z"
   },
   {
    "duration": 310,
    "start_time": "2024-07-13T13:17:39.548Z"
   },
   {
    "duration": 48,
    "start_time": "2024-07-13T13:17:39.862Z"
   },
   {
    "duration": 1,
    "start_time": "2024-07-13T13:17:39.913Z"
   },
   {
    "duration": 0,
    "start_time": "2024-07-13T13:17:39.916Z"
   },
   {
    "duration": 29,
    "start_time": "2024-07-13T13:18:42.674Z"
   },
   {
    "duration": 28,
    "start_time": "2024-07-13T13:19:22.487Z"
   },
   {
    "duration": 10,
    "start_time": "2024-07-13T13:19:37.105Z"
   },
   {
    "duration": 7,
    "start_time": "2024-07-13T13:20:02.088Z"
   },
   {
    "duration": 6,
    "start_time": "2024-07-13T13:20:06.215Z"
   },
   {
    "duration": 26,
    "start_time": "2024-07-13T13:20:32.342Z"
   },
   {
    "duration": 26,
    "start_time": "2024-07-13T13:20:39.684Z"
   },
   {
    "duration": 3,
    "start_time": "2024-07-13T13:21:39.727Z"
   },
   {
    "duration": 15,
    "start_time": "2024-07-13T13:21:39.734Z"
   },
   {
    "duration": 14,
    "start_time": "2024-07-13T13:21:39.753Z"
   },
   {
    "duration": 10,
    "start_time": "2024-07-13T13:21:39.770Z"
   },
   {
    "duration": 28,
    "start_time": "2024-07-13T13:21:39.784Z"
   },
   {
    "duration": 16,
    "start_time": "2024-07-13T13:21:39.819Z"
   },
   {
    "duration": 12,
    "start_time": "2024-07-13T13:21:39.844Z"
   },
   {
    "duration": 51,
    "start_time": "2024-07-13T13:21:39.859Z"
   },
   {
    "duration": 16,
    "start_time": "2024-07-13T13:21:39.913Z"
   },
   {
    "duration": 10,
    "start_time": "2024-07-13T13:21:39.934Z"
   },
   {
    "duration": 5,
    "start_time": "2024-07-13T13:21:39.948Z"
   },
   {
    "duration": 53,
    "start_time": "2024-07-13T13:21:39.956Z"
   },
   {
    "duration": 10,
    "start_time": "2024-07-13T13:21:40.012Z"
   },
   {
    "duration": 5,
    "start_time": "2024-07-13T13:21:40.026Z"
   },
   {
    "duration": 8,
    "start_time": "2024-07-13T13:21:40.035Z"
   },
   {
    "duration": 306,
    "start_time": "2024-07-13T13:21:40.047Z"
   },
   {
    "duration": 493,
    "start_time": "2024-07-13T13:21:40.356Z"
   },
   {
    "duration": 320,
    "start_time": "2024-07-13T13:21:40.852Z"
   },
   {
    "duration": 34,
    "start_time": "2024-07-13T13:21:41.175Z"
   },
   {
    "duration": 0,
    "start_time": "2024-07-13T13:21:41.213Z"
   },
   {
    "duration": 0,
    "start_time": "2024-07-13T13:21:41.215Z"
   },
   {
    "duration": 7,
    "start_time": "2024-07-13T13:22:15.078Z"
   },
   {
    "duration": 8,
    "start_time": "2024-07-13T13:22:17.658Z"
   },
   {
    "duration": 728,
    "start_time": "2024-07-13T13:22:33.635Z"
   },
   {
    "duration": 12,
    "start_time": "2024-07-13T13:23:16.277Z"
   },
   {
    "duration": 5,
    "start_time": "2024-07-13T13:32:20.682Z"
   },
   {
    "duration": 27,
    "start_time": "2024-07-13T13:35:25.707Z"
   },
   {
    "duration": 23,
    "start_time": "2024-07-13T13:35:32.354Z"
   },
   {
    "duration": 457,
    "start_time": "2024-07-13T13:35:43.216Z"
   },
   {
    "duration": 102,
    "start_time": "2024-07-13T13:36:01.558Z"
   },
   {
    "duration": 457,
    "start_time": "2024-07-13T13:37:01.380Z"
   },
   {
    "duration": 81,
    "start_time": "2024-07-13T13:38:32.785Z"
   },
   {
    "duration": 772,
    "start_time": "2024-07-13T13:39:21.338Z"
   },
   {
    "duration": 8,
    "start_time": "2024-07-13T13:42:23.768Z"
   },
   {
    "duration": 7,
    "start_time": "2024-07-13T13:52:11.587Z"
   },
   {
    "duration": 7,
    "start_time": "2024-07-13T13:54:35.487Z"
   }
  ],
  "kernelspec": {
   "display_name": "Python 3",
   "language": "python",
   "name": "python3"
  },
  "language_info": {
   "codemirror_mode": {
    "name": "ipython",
    "version": 3
   },
   "file_extension": ".py",
   "mimetype": "text/x-python",
   "name": "python",
   "nbconvert_exporter": "python",
   "pygments_lexer": "ipython3",
   "version": "3.12.7"
  },
  "toc": {
   "base_numbering": 1,
   "nav_menu": {},
   "number_sections": true,
   "sideBar": true,
   "skip_h1_title": true,
   "title_cell": "Table of Contents",
   "title_sidebar": "Contents",
   "toc_cell": false,
   "toc_position": {
    "height": "calc(100% - 180px)",
    "left": "10px",
    "top": "150px",
    "width": "269px"
   },
   "toc_section_display": true,
   "toc_window_display": true
  }
 },
 "nbformat": 4,
 "nbformat_minor": 2
}
